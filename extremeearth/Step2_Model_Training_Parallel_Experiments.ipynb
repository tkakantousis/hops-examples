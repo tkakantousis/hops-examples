{
 "cells": [
  {
   "cell_type": "markdown",
   "metadata": {},
   "source": [
    "# Notebook for Training ResNet on The TinyImageNet dataset. Notebook (2/4) in the End-to-End Scalable Deep Learning Pipeline on Hops.\n",
    "\n",
    "ResNet is one of the state-of-the-art deep networks for computer vision. ResNet is based on the idea of residual learning. A residual network has so called \"shortcut connections\" parallel to the normal convolutional layers. Those shortcuts act like highways for gradients which allows to train extremely deep networks without suffering from vanishing or exploding gradients. Intuitively, by having the short-cut connections available during training, the network can learn which layers it doesn't need, since it can always fall-back on the shortcut (identity) connection.\n",
    "![resnet1.png](./../images/resnet_1.png)\n",
    "\n",
    "Despite the huge increase in the overall depth, a ResNet with 50 layers has roughly half the parameters in AlexNet, this is because ResNet relies only on small filters in the network. E.g a stack of several 3x3 filters uses the same number of parameters as a single 7x7 filter. \n",
    "\n",
    "ResNet come in different depths: Resnet18, Resnet34, Resnet50,Resnet101, Resnet152\n",
    "\n",
    "For the deeper variants, ResNet uses \"bottleneck building blocks\" to lower the training time for the deepest networks. \n",
    "\n",
    "![bottlenneck.png](./../images/bottleneck.png)\n",
    "\n",
    "ResNet uses batch notmalization right after each convolution and before the activation function. Typically ReLU is used as the activation function.\n",
    "\n",
    "\n",
    "This notebook will read the TFRecords that were written by notebook number 1 ([Notebook number one](./Step1_Save_to_Featurestore.ipynb)) and feed them into ResNet for single-GPU training and distributed hyperparameter search using several GPUs. \n",
    "\n",
    "Specifically, this notebook reads TFRecords dataset called 'train_dataset_tinyimagenet' from the featurestore.\n",
    "\n",
    "![step2.png](./../images/step2.png)"
   ]
  },
  {
   "cell_type": "markdown",
   "metadata": {},
   "source": [
    "## Package Imports\n"
   ]
  },
  {
   "cell_type": "code",
   "execution_count": 1,
   "metadata": {},
   "outputs": [
    {
     "name": "stdout",
     "output_type": "stream",
     "text": [
      "Starting Spark application\n"
     ]
    },
    {
     "data": {
      "text/html": [
       "<table>\n",
       "<tr><th>ID</th><th>YARN Application ID</th><th>Kind</th><th>State</th><th>Spark UI</th><th>Driver log</th><th>Current session?</th></tr><tr><td>1382</td><td>application_1553861944920_0382</td><td>pyspark</td><td>idle</td><td><a target=\"_blank\" href=\"http://hadoop33:8088/proxy/application_1553861944920_0382/\">Link</a></td><td><a target=\"_blank\" href=\"http://hadoop24:8042/node/containerlogs/container_e71_1553861944920_0382_01_000001/end_to_end__kimham00\">Link</a></td><td>✔</td></tr></table>"
      ],
      "text/plain": [
       "<IPython.core.display.HTML object>"
      ]
     },
     "metadata": {},
     "output_type": "display_data"
    },
    {
     "name": "stdout",
     "output_type": "stream",
     "text": [
      "SparkSession available as 'spark'.\n"
     ]
    }
   ],
   "source": [
    "import tensorflow as tf\n",
    "from tensorflow.keras.applications import ResNet50\n",
    "from hops import experiment, tensorboard, featurestore, hdfs\n",
    "from tensorflow import keras\n",
    "from tensorflow.python.keras.callbacks import TensorBoard\n",
    "import numpy as np\n",
    "import math\n",
    "import json\n",
    "from tensorflow.keras import metrics\n",
    "from tensorflow.keras.models import load_model"
   ]
  },
  {
   "cell_type": "markdown",
   "metadata": {},
   "source": [
    "## Constants"
   ]
  },
  {
   "cell_type": "code",
   "execution_count": 2,
   "metadata": {},
   "outputs": [],
   "source": [
    "HEIGHT = 64\n",
    "WIDTH = 64\n",
    "CHANNELS = 3\n",
    "BATCH_SIZE = 100\n",
    "SHUFFLE_BUFFER_SIZE = 1000\n",
    "INPUT_SHAPE = 12288\n",
    "NUM_CLASSES = 200\n",
    "NUM_EPOCHS = 5\n",
    "LEARNING_RATE = 0.001\n",
    "TRAIN_DATASET = \"train_dataset_tinyimagenet\"\n",
    "TEST_DATASET = \"test_dataset_tinyimagenet\"\n",
    "VAL_DATASET = \"val_dataset_tinyimagenet\"\n",
    "MODEL_NAME = \"tinyimagenet_resnet50.h5\"\n",
    "HYPERPARAMS_FILE = \"tinyimagenet_best_hyperparams.json\""
   ]
  },
  {
   "cell_type": "code",
   "execution_count": 3,
   "metadata": {},
   "outputs": [],
   "source": [
    "TRAIN_DATASET_SIZE = featurestore.get_training_dataset(TRAIN_DATASET).count()\n",
    "STEPS_PER_EPOCH = int(math.floor(float(TRAIN_DATASET_SIZE)/float(BATCH_SIZE)))"
   ]
  },
  {
   "cell_type": "code",
   "execution_count": 4,
   "metadata": {},
   "outputs": [],
   "source": [
    "%%local\n",
    "HYPERPARAMS_FILE = \"tinyimagenet_best_hyperparams.json\""
   ]
  },
  {
   "cell_type": "markdown",
   "metadata": {},
   "source": [
    "## Define Model"
   ]
  },
  {
   "cell_type": "code",
   "execution_count": 5,
   "metadata": {},
   "outputs": [],
   "source": [
    "def define_model():\n",
    "    \"\"\"\n",
    "    Defines the model to use for image classification. \n",
    "    \n",
    "    Uses a pre-defined ResNet50 implementation provided by Keras, but uses randomly initialized weights,\n",
    "    i.e pre-defined but not pre-TRAINED.\n",
    "    \n",
    "    Returns:\n",
    "           ResNet50 model\n",
    "    \"\"\"\n",
    "    model = ResNet50(weights=None, input_shape=(HEIGHT, WIDTH, CHANNELS), classes=NUM_CLASSES)\n",
    "    return model"
   ]
  },
  {
   "cell_type": "markdown",
   "metadata": {},
   "source": [
    "## Define Model Input"
   ]
  },
  {
   "cell_type": "code",
   "execution_count": 6,
   "metadata": {},
   "outputs": [],
   "source": [
    "def create_tf_dataset(dataset_name, shuffle_buffer_size, batch_size, num_epochs):\n",
    "    \"\"\"\n",
    "    Creates a Tensorflow Dataset from TFRecords on HopsFS stored in the feature store.\n",
    "    \n",
    "    Args:\n",
    "        :dataset_name: name of the training dataset in the featurestore (TFRecords format)\n",
    "        :shuffle_buffer_size: size of the shuffle buffer in memory for shuffling the dataset\n",
    "        :batch_size: the size of the batch\n",
    "        :num_epochs: number of epochs to repeat the dataset\n",
    "    \n",
    "    Returns:\n",
    "           Tensorflow dataset\n",
    "    \"\"\"\n",
    "    \n",
    "    # Get Path and Schema from feature store metadata\n",
    "    tf_record_schema = featurestore.get_training_dataset_tf_record_schema(dataset_name)\n",
    "    dataset_dir = featurestore.get_training_dataset_path(dataset_name)\n",
    "    \n",
    "    input_files = tf.gfile.Glob(dataset_dir + \"/part-r-*\")\n",
    "    dataset = tf.data.TFRecordDataset(input_files)\n",
    "\n",
    "    def decode(example_proto):\n",
    "        example = tf.parse_single_example(example_proto, tf_record_schema)\n",
    "        label_int = example[\"label\"]\n",
    "        image_flat = example[\"image\"]\n",
    "        image = tf.reshape(image_flat, (HEIGHT,WIDTH,CHANNELS))\n",
    "        label = tf.one_hot(label_int, NUM_CLASSES)\n",
    "        return image, label\n",
    "\n",
    "    dataset = dataset.map(decode).batch(batch_size).shuffle(shuffle_buffer_size)\n",
    "    dataset = dataset.repeat(num_epochs)\n",
    "    # prefetch 1 batch to make bottleneck on GPU bandwidth less likely\n",
    "    dataset = dataset.prefetch(1)\n",
    "    return dataset"
   ]
  },
  {
   "cell_type": "code",
   "execution_count": 7,
   "metadata": {},
   "outputs": [],
   "source": [
    "def test_read_dataset():\n",
    "    \"\"\"\n",
    "    Utility function for confirming that parsing the tfrecord files is working correctly\n",
    "    \"\"\"\n",
    "    with tf.Session() as sess:\n",
    "        dataset = create_tf_dataset(TRAIN_DATASET, SHUFFLE_BUFFER_SIZE, BATCH_SIZE, NUM_EPOCHS)\n",
    "        dataset_iter = dataset.make_one_shot_iterator()\n",
    "        for i in range(5):\n",
    "            x,y = sess.run(dataset_iter.get_next())\n",
    "            print(\"feature batch shape: {}, label batch shape: {}\".format(x.shape, y.shape))"
   ]
  },
  {
   "cell_type": "code",
   "execution_count": 8,
   "metadata": {},
   "outputs": [
    {
     "name": "stdout",
     "output_type": "stream",
     "text": [
      "feature batch shape: (100, 64, 64, 3), label batch shape: (100, 200)\n",
      "feature batch shape: (100, 64, 64, 3), label batch shape: (100, 200)\n",
      "feature batch shape: (100, 64, 64, 3), label batch shape: (100, 200)\n",
      "feature batch shape: (100, 64, 64, 3), label batch shape: (100, 200)\n",
      "feature batch shape: (100, 64, 64, 3), label batch shape: (100, 200)"
     ]
    }
   ],
   "source": [
    "test_read_dataset()"
   ]
  },
  {
   "cell_type": "markdown",
   "metadata": {},
   "source": [
    "## Define Train Loop"
   ]
  },
  {
   "cell_type": "code",
   "execution_count": 9,
   "metadata": {},
   "outputs": [],
   "source": [
    "def train_fn(learning_rate, save_model):\n",
    "    \"\"\"\n",
    "    Defines the training loop:\n",
    "    \n",
    "    1. Get Model\n",
    "    2. Get Dataset\n",
    "    3. Define custom metrics\n",
    "    4. Compile Model\n",
    "    5. Setup Tensorboard\n",
    "    6. Fit model on train dataset\n",
    "    7. Save Training history to HopsFS (Resources folder)\n",
    "    8. Save Trained model to HopsFS (Resources Folder)\n",
    "    9. Get the Validation Dataset\n",
    "    10. Evaluate Model on Validation Dataset\n",
    "    11. Save results on the validation set to HopsFS\n",
    "    12. Return Validation Accuracy\n",
    "    \"\"\"\n",
    "    # Tell Keras we are traning (in case it does different functionality between train/test time)\n",
    "    tf.keras.backend.set_learning_phase(True)\n",
    "\n",
    "    # 1. Get model\n",
    "    print(\"Defning the model\")\n",
    "    model = define_model()\n",
    "    print(\"Defining the model complete\")\n",
    "    \n",
    "    # 2. Get the train dataset\n",
    "    print(\"Getting the train dataset\")\n",
    "    train_dataset = create_tf_dataset(TRAIN_DATASET, SHUFFLE_BUFFER_SIZE, BATCH_SIZE, NUM_EPOCHS)\n",
    "    print(\"Getting the train dataset complete\")\n",
    "    # 3. Define custom metrics\n",
    "    def top3_acc(x, y):\n",
    "        return metrics.top_k_categorical_accuracy(x, y, k=3)\n",
    "    \n",
    "    def top5_acc(x, y):\n",
    "        return metrics.top_k_categorical_accuracy(x, y, k=5)\n",
    "    \n",
    "    # 4. Compile the model\n",
    "    print(\"Compiling the model\")\n",
    "    model.compile(optimizer=tf.train.AdamOptimizer(learning_rate), loss='categorical_crossentropy',  \n",
    "                  metrics=['accuracy', metrics.mae,top3_acc,top5_acc])\n",
    "    print(\"Compiling the model complete\")\n",
    "    # 5. Setup Tensorboard\n",
    "    print(\"Setting up tensorboard\")\n",
    "    tb_callback = TensorBoard(log_dir=tensorboard.logdir(), histogram_freq=0,\n",
    "                             write_graph=True, write_images=True)\n",
    "    callbacks = [tb_callback]\n",
    "    callbacks.append(keras.callbacks.ModelCheckpoint(tensorboard.logdir() + '/checkpoint-{epoch}.h5',\n",
    "                    monitor='acc', verbose=0, save_best_only=True))\n",
    "    print(\"Setting up tensorboard complete\")\n",
    "    # 6. Fit model on training dataset\n",
    "    print(\"Starting training...\")\n",
    "    history = model.fit(train_dataset, epochs=NUM_EPOCHS, steps_per_epoch = STEPS_PER_EPOCH, callbacks=callbacks)\n",
    "    print(\"Training complete\")\n",
    "    \n",
    "    # 7. Save training history to HopsFS\n",
    "    print(\"Saving training history log...\")\n",
    "    results_path = hdfs.project_path() + \"Resources/tinyimagenet_train_results_\" + \"lr=\" + str(learning_rate) + \".json\" \n",
    "    hdfs.dump(json.dumps(history.history), results_path)\n",
    "    print(\"Training history saved, final train top1 accuracy: {}\".format(history.history[\"acc\"][-1]))\n",
    "    \n",
    "    # 8. Save trained model to HopsFS \n",
    "    if(save_model):\n",
    "        try:\n",
    "            print(\"Saving trained model..\")\n",
    "            # Keras can't save to HDFS in the current version so save to local fs first\n",
    "            model.save(MODEL_NAME) #Keras can't save to HDFS in the current version so save to local fs first\n",
    "            # copy from local fs to hdfs\n",
    "            hdfs.copy_to_hdfs(MODEL_NAME, hdfs.project_path() + \"Resources/\", overwrite=True)\n",
    "            print(\"Trained model saved\")\n",
    "        except:\n",
    "            print(\"Exception while trying to save model to HDFS\")\n",
    "        \n",
    "    # 9. Get the validation dataset\n",
    "    print(\"Getting the validation dataset...\")\n",
    "    val_dataset = create_tf_dataset(VAL_DATASET, SHUFFLE_BUFFER_SIZE, BATCH_SIZE, 1)\n",
    "    print(\"Got validation dataset complete.\")\n",
    "    \n",
    "    # 10. Evaluate trained model on the validation dataset\n",
    "    print(\"Evaluating trained model on validation dataset...\")\n",
    "    score = model.evaluate(val_dataset, verbose=1, steps=1)\n",
    "    print(\"Evaluation on validation dataset complete.\")\n",
    "    \n",
    "    # 11. Save validation results to HopsFS\n",
    "    print(\"Saving validation results to HopsFS..\")\n",
    "    val_loss = score[0]\n",
    "    val_top1_acc = score[1]\n",
    "    val_mae = score[2]\n",
    "    val_top3_acc = score[3]\n",
    "    val_top5_acc = score[4]\n",
    "    validation_results = {\n",
    "        \"loss\": val_loss,\n",
    "        \"top1_acc\": val_top1_acc,\n",
    "        \"mae\": val_mae,\n",
    "        \"val_top3_acc\": val_top3_acc,\n",
    "        \"val_top5_acc\": val_top5_acc\n",
    "    }\n",
    "    val_results_path = hdfs.project_path() + \"Resources/tinyimagenet_val_results_\" + \"lr=\" + str(learning_rate) + \".json\" \n",
    "    hdfs.dump(json.dumps(validation_results), val_results_path)\n",
    "    print(\"Saved validation results: {}\".format(validation_results))\n",
    "    \n",
    "    # 12. Return validation accuracy\n",
    "    #return history.history[\"acc\"][-1]\n",
    "    return val_top1_acc"
   ]
  },
  {
   "cell_type": "markdown",
   "metadata": {},
   "source": [
    "## HyperParameter Search Experiments\n",
    "\n",
    "To run the differential evolution you should have started the jupyter notebook from the \"Parallel Experiments\" option, ideally using GPUs since we are training using a very compute-intensive network: ResNet50. If you use 5 parallel executors, then setting `population=5` is a good choice, and the number of generations will control for how many rounds the search will go on before returning. "
   ]
  },
  {
   "cell_type": "code",
   "execution_count": 10,
   "metadata": {},
   "outputs": [],
   "source": [
    "BATCH_SIZE = 100\n",
    "NUM_EPOCHS = 20"
   ]
  },
  {
   "cell_type": "code",
   "execution_count": 12,
   "metadata": {},
   "outputs": [],
   "source": [
    "search_dict = {\"learning_rate\": [0.001, 0.01], \"save_model\" : [False, False]} # don't need to save model during hyperparam search\n",
    "log_dir, best_params = experiment.differential_evolution(\n",
    "    train_fn,\n",
    "    search_dict,\n",
    "    name='tiny_imagenet_hyperparam_search',\n",
    "    description='Evolutionary search through the search space of hyperparameters with parallel executors to find the best parameters for the tinyimagenet dataset',\n",
    "    local_logdir=True,\n",
    "    population=4,\n",
    "    generations = 6\n",
    "    )"
   ]
  },
  {
   "cell_type": "markdown",
   "metadata": {},
   "source": [
    "## Save the Best HyperParameters to HopsFS\n",
    "The next notebook will read the best parameters and use those for training on a larger amount of epochs using a larger amount of GPUs"
   ]
  },
  {
   "cell_type": "code",
   "execution_count": 120,
   "metadata": {},
   "outputs": [
    {
     "name": "stdout",
     "output_type": "stream",
     "text": [
      "{'learning_rate': '0.004086662546226794', 'save_model': '0'}"
     ]
    }
   ],
   "source": [
    "best_params"
   ]
  },
  {
   "cell_type": "code",
   "execution_count": 121,
   "metadata": {},
   "outputs": [],
   "source": [
    "hdfs.dump(json.dumps(best_params), \"Resources/\" + HYPERPARAMS_FILE)"
   ]
  },
  {
   "cell_type": "markdown",
   "metadata": {},
   "source": [
    "## Plot Results of Best HyperParameter Combination"
   ]
  },
  {
   "cell_type": "markdown",
   "metadata": {},
   "source": [
    "### Load Training Results from HopsFS"
   ]
  },
  {
   "cell_type": "code",
   "execution_count": 122,
   "metadata": {},
   "outputs": [],
   "source": [
    "%%local\n",
    "import json\n",
    "from hops import hdfs\n",
    "import matplotlib.pyplot as plt\n",
    "from pylab import rcParams\n",
    "# Read the best hyperparameters\n",
    "best_hyperparams_path = \"Resources/\" + HYPERPARAMS_FILE\n",
    "best_hyperparams = json.loads(hdfs.load(best_hyperparams_path))\n",
    "best_learning_rate = best_hyperparams[\"learning_rate\"]\n",
    "# Read the training history for the training run with the best hyperparameters\n",
    "results_path = hdfs.project_path() + \"Resources/tinyimagenet_train_results_\" + \"lr=\" + str(best_learning_rate) + \".json\" \n",
    "results = json.loads(hdfs.load(results_path))"
   ]
  },
  {
   "cell_type": "code",
   "execution_count": 123,
   "metadata": {},
   "outputs": [
    {
     "data": {
      "text/plain": [
       "{'loss': [5.411390064445596,\n",
       "  5.222174410669325,\n",
       "  5.116018927668456,\n",
       "  4.780339137980454,\n",
       "  4.4961224836919165,\n",
       "  4.197769415366419,\n",
       "  3.8981625394597574,\n",
       "  3.6129509233674995,\n",
       "  3.3779140673160066,\n",
       "  3.1467709290993446,\n",
       "  2.8962555218423423,\n",
       "  2.6263754996077124,\n",
       "  2.284546881883759,\n",
       "  1.9326494781492196,\n",
       "  1.5513498628175952,\n",
       "  1.0851616384603926,\n",
       "  0.6480491159371766,\n",
       "  0.40564116015726515,\n",
       "  0.3199676515479457,\n",
       "  0.2681495739255294],\n",
       " 'acc': [0.009054697310470356,\n",
       "  0.01697247675131099,\n",
       "  0.027627581932698732,\n",
       "  0.04670266684421948,\n",
       "  0.07914502121637235,\n",
       "  0.11595233486135557,\n",
       "  0.1565292457367363,\n",
       "  0.1990851497811158,\n",
       "  0.2382390739644947,\n",
       "  0.27630292084238944,\n",
       "  0.32105782131354016,\n",
       "  0.36813016951266414,\n",
       "  0.43375565930365545,\n",
       "  0.5073967380990311,\n",
       "  0.5909156239725398,\n",
       "  0.7019287993662462,\n",
       "  0.81601568986638,\n",
       "  0.8805464588781623,\n",
       "  0.9041652169067196,\n",
       "  0.9181189449555284],\n",
       " 'mean_absolute_error': [0.009941208226630933,\n",
       "  0.009922017659479325,\n",
       "  0.009901096389290025,\n",
       "  0.009852029950900058,\n",
       "  0.009750203106070087,\n",
       "  0.00959363685413876,\n",
       "  0.009373966205739829,\n",
       "  0.009092646672805273,\n",
       "  0.008823145325243413,\n",
       "  0.008515526273807132,\n",
       "  0.00815261508766315,\n",
       "  0.007731447663256912,\n",
       "  0.007122039600302988,\n",
       "  0.006415961795865305,\n",
       "  0.00555603962370729,\n",
       "  0.004352390208631891,\n",
       "  0.002987790056153046,\n",
       "  0.0020607287880881984,\n",
       "  0.0016822508381948798,\n",
       "  0.0014204712065789282],\n",
       " 'top3_acc': [0.03744203117310575,\n",
       "  0.05818823446157967,\n",
       "  0.07282429431526183,\n",
       "  0.10897650284299609,\n",
       "  0.16708383378435104,\n",
       "  0.22883301741698953,\n",
       "  0.29346830384933015,\n",
       "  0.3538808249977629,\n",
       "  0.40430082839502596,\n",
       "  0.4540445658470391,\n",
       "  0.5063781442688389,\n",
       "  0.5632805563927182,\n",
       "  0.6322951273086967,\n",
       "  0.7036243047067757,\n",
       "  0.7808360094992515,\n",
       "  0.8663235648813354,\n",
       "  0.9389188268984251,\n",
       "  0.9717098348731295,\n",
       "  0.9823445541049363,\n",
       "  0.9866564813374744],\n",
       " 'top5_acc': [0.053859275305277225,\n",
       "  0.08426908717873324,\n",
       "  0.11380895233269739,\n",
       "  0.15693570266759724,\n",
       "  0.2301350984490732,\n",
       "  0.3019943496745904,\n",
       "  0.37611182079584954,\n",
       "  0.4402483881552771,\n",
       "  0.49379307778967996,\n",
       "  0.5439275312678894,\n",
       "  0.595691040082323,\n",
       "  0.6517215717154784,\n",
       "  0.7175740338368275,\n",
       "  0.7800625800235799,\n",
       "  0.8448556747276119,\n",
       "  0.9136663711763667,\n",
       "  0.9652545258296497,\n",
       "  0.9870234527354576,\n",
       "  0.9928950104144735,\n",
       "  0.9951783936930237]}"
      ]
     },
     "execution_count": 123,
     "metadata": {},
     "output_type": "execute_result"
    }
   ],
   "source": [
    "%%local\n",
    "results"
   ]
  },
  {
   "cell_type": "markdown",
   "metadata": {},
   "source": [
    "### Plot Loss/Epoch During Training"
   ]
  },
  {
   "cell_type": "code",
   "execution_count": 124,
   "metadata": {},
   "outputs": [
    {
     "data": {
      "text/plain": [
       "[<matplotlib.lines.Line2D at 0x7f706410d978>]"
      ]
     },
     "execution_count": 124,
     "metadata": {},
     "output_type": "execute_result"
    },
    {
     "data": {
      "image/png": "[encoded data removed]",
      "text/plain": [
       "<Figure size 432x288 with 1 Axes>"
      ]
     },
     "metadata": {
      "needs_background": "light"
     },
     "output_type": "display_data"
    }
   ],
   "source": [
    "%%local\n",
    "%matplotlib inline\n",
    "y = results[\"loss\"] #loss\n",
    "x = list(range(1, len(y)+1))#epoch\n",
    "plt.title(\"Loss per Epoch - TinyImageNet ResNet50 Training\")\n",
    "plt.xlabel(\"Epoch\")\n",
    "plt.ylabel(\"Loss\")\n",
    "plt.plot(x,y)"
   ]
  },
  {
   "cell_type": "markdown",
   "metadata": {},
   "source": [
    "### Plot Accuracy/Epoch During Training"
   ]
  },
  {
   "cell_type": "code",
   "execution_count": 125,
   "metadata": {},
   "outputs": [
    {
     "data": {
      "text/plain": [
       "[<matplotlib.lines.Line2D at 0x7f7064047b00>]"
      ]
     },
     "execution_count": 125,
     "metadata": {},
     "output_type": "execute_result"
    },
    {
     "data": {
      "image/png": "[encoded data removed]",
      "text/plain": [
       "<Figure size 432x288 with 1 Axes>"
      ]
     },
     "metadata": {
      "needs_background": "light"
     },
     "output_type": "display_data"
    }
   ],
   "source": [
    "%%local\n",
    "%matplotlib inline\n",
    "y = results[\"acc\"] #acc\n",
    "x = list(range(1, len(y)+1))#epoch\n",
    "plt.title(\"Top1 Accuracy per Epoch - TinyImageNet ResNet50 Training\")\n",
    "plt.xlabel(\"Epoch\")\n",
    "plt.ylabel(\"Top1 Accuracy\")\n",
    "plt.plot(x,y)"
   ]
  },
  {
   "cell_type": "code",
   "execution_count": 126,
   "metadata": {},
   "outputs": [
    {
     "data": {
      "text/plain": [
       "[<matplotlib.lines.Line2D at 0x7f706409fe48>]"
      ]
     },
     "execution_count": 126,
     "metadata": {},
     "output_type": "execute_result"
    },
    {
     "data": {
      "image/png": "[encoded data removed]",
      "text/plain": [
       "<Figure size 432x288 with 1 Axes>"
      ]
     },
     "metadata": {
      "needs_background": "light"
     },
     "output_type": "display_data"
    }
   ],
   "source": [
    "%%local\n",
    "%matplotlib inline\n",
    "y = results[\"top3_acc\"] #acc\n",
    "x = list(range(1, len(y)+1))#epoch\n",
    "plt.title(\"Top3 Accuracy per Epoch - TinyImageNet ResNet50 Training\")\n",
    "plt.xlabel(\"Epoch\")\n",
    "plt.ylabel(\"Top3 Accuracy\")\n",
    "plt.plot(x,y)"
   ]
  },
  {
   "cell_type": "code",
   "execution_count": 127,
   "metadata": {},
   "outputs": [
    {
     "data": {
      "text/plain": [
       "[<matplotlib.lines.Line2D at 0x7f705c5f2780>]"
      ]
     },
     "execution_count": 127,
     "metadata": {},
     "output_type": "execute_result"
    },
    {
     "data": {
      "image/png": "[encoded data removed]",
      "text/plain": [
       "<Figure size 432x288 with 1 Axes>"
      ]
     },
     "metadata": {
      "needs_background": "light"
     },
     "output_type": "display_data"
    }
   ],
   "source": [
    "%%local\n",
    "%matplotlib inline\n",
    "y = results[\"top5_acc\"] #acc\n",
    "x = list(range(1, len(y)+1))#epoch\n",
    "plt.title(\"Top5 Accuracy per Epoch - TinyImageNet ResNet50 Training\")\n",
    "plt.xlabel(\"Epoch\")\n",
    "plt.ylabel(\"Top5 Accuracy\")\n",
    "plt.plot(x,y)"
   ]
  },
  {
   "cell_type": "markdown",
   "metadata": {},
   "source": [
    "## Run single training experiment with a set of hyperparameters using a single GPU\n",
    "\n",
    "Running 30 epochs (1.5hours on single GPU) with the following learning rate yields Top1Acc: 0.73 | Top3Acc: 0.90 | Top5Acc: 0.94 on the training set:\n",
    "\n",
    "- lr: 0.01\n",
    "- batch_size: 100\n",
    "\n",
    "The accuracy can be further improved by training more epochs, and to improve the accuracy on the validation set more regularization should be added to the model."
   ]
  },
  {
   "cell_type": "code",
   "execution_count": 98,
   "metadata": {},
   "outputs": [],
   "source": [
    "BATCH_SIZE = 100\n",
    "NUM_EPOCHS = 30\n",
    "LEARNING_RATE = 0.01\n",
    "args_d = {}\n",
    "args_d[\"learning_rate\"] = [LEARNING_RATE]\n",
    "args_d[\"save_model\"] = [True]"
   ]
  },
  {
   "cell_type": "code",
   "execution_count": 96,
   "metadata": {},
   "outputs": [
    {
     "name": "stdout",
     "output_type": "stream",
     "text": [
      "Finished Experiment"
     ]
    }
   ],
   "source": [
    "experiment_result_path = experiment.launch(\n",
    "    train_fn, \n",
    "    args_dict = args_d,\n",
    "    name='tinyimagenet_resnet_150_epochs',\n",
    "    description=\"Training TinyImageNet 150 epochs using hyperparameters found with differential evolution\",\n",
    "    local_logdir=True\n",
    ")"
   ]
  },
  {
   "cell_type": "code",
   "execution_count": 114,
   "metadata": {},
   "outputs": [
    {
     "name": "stdout",
     "output_type": "stream",
     "text": [
      "train_acc1: 0.7361346604141135, train_acc3: 0.9071022858434983, train_acc5: 0.9488583110523515, loss: 0.8728083318951905"
     ]
    }
   ],
   "source": [
    "learning_rate = LEARNING_RATE\n",
    "train_results_path = hdfs.project_path() + \"Resources/tinyimagenet_train_results_\" + \"lr=\" + str(learning_rate) + \".json\"\n",
    "train_results = json.loads(hdfs.load(train_results_path))\n",
    "train_results.keys()\n",
    "print(\"train_acc1: {}, train_acc3: {}, train_acc5: {}, loss: {}\".format(train_results[\"acc\"][-1], train_results[\"top3_acc\"][-1], train_results[\"top5_acc\"][-1], train_results[\"loss\"][-1]))"
   ]
  },
  {
   "cell_type": "code",
   "execution_count": 110,
   "metadata": {},
   "outputs": [
    {
     "name": "stdout",
     "output_type": "stream",
     "text": [
      "val_acc1: 0.09000000357627869, val_acc3: 0.2199999988079071, val_acc5: 0.28999999165534973, loss: 8.212908744812012"
     ]
    }
   ],
   "source": [
    "learning_rate = LEARNING_RATE\n",
    "val_results_path = hdfs.project_path() + \"Resources/tinyimagenet_val_results_\" + \"lr=\" + str(learning_rate) + \".json\"\n",
    "val_results = json.loads(hdfs.load(val_results_path))\n",
    "print(\"val_acc1: {}, val_acc3: {}, val_acc5: {}, loss: {}\".format(val_results[\"top1_acc\"], val_results[\"val_top3_acc\"], val_results[\"val_top5_acc\"], val_results[\"loss\"]))"
   ]
  },
  {
   "cell_type": "markdown",
   "metadata": {},
   "source": [
    "## Plot Results"
   ]
  },
  {
   "cell_type": "code",
   "execution_count": 100,
   "metadata": {},
   "outputs": [],
   "source": [
    "%%local\n",
    "import json\n",
    "from hops import hdfs\n",
    "import matplotlib.pyplot as plt\n",
    "from pylab import rcParams\n",
    "LEARNING_RATE = 0.01\n",
    "best_learning_rate = LEARNING_RATE\n",
    "# Read the training history for the training run with the best hyperparameters\n",
    "results_path = hdfs.project_path() + \"Resources/tinyimagenet_train_results_\" + \"lr=\" + str(best_learning_rate) + \".json\" \n",
    "results = json.loads(hdfs.load(results_path))"
   ]
  },
  {
   "cell_type": "code",
   "execution_count": 101,
   "metadata": {},
   "outputs": [
    {
     "data": {
      "text/plain": [
       "[<matplotlib.lines.Line2D at 0x7f7064212080>]"
      ]
     },
     "execution_count": 101,
     "metadata": {},
     "output_type": "execute_result"
    },
    {
     "data": {
      "image/png": "[encoded data removed]",
      "text/plain": [
       "<Figure size 432x288 with 1 Axes>"
      ]
     },
     "metadata": {
      "needs_background": "light"
     },
     "output_type": "display_data"
    }
   ],
   "source": [
    "%%local\n",
    "%matplotlib inline\n",
    "y = results[\"loss\"] #loss\n",
    "x = list(range(1, len(y)+1))#epoch\n",
    "plt.title(\"Loss per Epoch - TinyImageNet ResNet50 Training\")\n",
    "plt.xlabel(\"Epoch\")\n",
    "plt.ylabel(\"Loss\")\n",
    "plt.plot(x,y)"
   ]
  },
  {
   "cell_type": "code",
   "execution_count": 102,
   "metadata": {},
   "outputs": [
    {
     "data": {
      "text/plain": [
       "[<matplotlib.lines.Line2D at 0x7f7064213400>]"
      ]
     },
     "execution_count": 102,
     "metadata": {},
     "output_type": "execute_result"
    },
    {
     "data": {
      "image/png": "[encoded data removed]",
      "text/plain": [
       "<Figure size 432x288 with 1 Axes>"
      ]
     },
     "metadata": {
      "needs_background": "light"
     },
     "output_type": "display_data"
    }
   ],
   "source": [
    "%%local\n",
    "%matplotlib inline\n",
    "y = results[\"acc\"] #acc\n",
    "x = list(range(1, len(y)+1))#epoch\n",
    "plt.title(\"Top1 Accuracy per Epoch - TinyImageNet ResNet50 Training\")\n",
    "plt.xlabel(\"Epoch\")\n",
    "plt.ylabel(\"Top1 Accuracy\")\n",
    "plt.plot(x,y)"
   ]
  },
  {
   "cell_type": "code",
   "execution_count": 103,
   "metadata": {},
   "outputs": [
    {
     "data": {
      "text/plain": [
       "[<matplotlib.lines.Line2D at 0x7f70641d1208>]"
      ]
     },
     "execution_count": 103,
     "metadata": {},
     "output_type": "execute_result"
    },
    {
     "data": {
      "image/png": "[encoded data removed]",
      "text/plain": [
       "<Figure size 432x288 with 1 Axes>"
      ]
     },
     "metadata": {
      "needs_background": "light"
     },
     "output_type": "display_data"
    }
   ],
   "source": [
    "%%local\n",
    "%matplotlib inline\n",
    "y = results[\"top3_acc\"] #acc\n",
    "x = list(range(1, len(y)+1))#epoch\n",
    "plt.title(\"Top3 Accuracy per Epoch - TinyImageNet ResNet50 Training\")\n",
    "plt.xlabel(\"Epoch\")\n",
    "plt.ylabel(\"Top3 Accuracy\")\n",
    "plt.plot(x,y)"
   ]
  },
  {
   "cell_type": "code",
   "execution_count": 104,
   "metadata": {},
   "outputs": [
    {
     "data": {
      "text/plain": [
       "[<matplotlib.lines.Line2D at 0x7f70641443c8>]"
      ]
     },
     "execution_count": 104,
     "metadata": {},
     "output_type": "execute_result"
    },
    {
     "data": {
      "image/png": "[encoded data removed]",
      "text/plain": [
       "<Figure size 432x288 with 1 Axes>"
      ]
     },
     "metadata": {
      "needs_background": "light"
     },
     "output_type": "display_data"
    }
   ],
   "source": [
    "%%local\n",
    "%matplotlib inline\n",
    "y = results[\"top5_acc\"] #acc\n",
    "x = list(range(1, len(y)+1))#epoch\n",
    "plt.title(\"Top5 Accuracy per Epoch - TinyImageNet ResNet50 Training\")\n",
    "plt.xlabel(\"Epoch\")\n",
    "plt.ylabel(\"Top5 Accuracy\")\n",
    "plt.plot(x,y)"
   ]
  },
  {
   "cell_type": "markdown",
   "metadata": {},
   "source": [
    "## Load Model and Evaluate on Validation Dataset"
   ]
  },
  {
   "cell_type": "code",
   "execution_count": 128,
   "metadata": {},
   "outputs": [],
   "source": [
    "model_path_hdfs = hdfs.project_path() + \"Resources/\" + MODEL_NAME"
   ]
  },
  {
   "cell_type": "markdown",
   "metadata": {},
   "source": [
    "In future releases of Tensorflow, Keras will be able to read directly from HDFS, but currently it is not supported. To get around this we can download the hdf5 model in the local file system and load it from there using keras function load_model()"
   ]
  },
  {
   "cell_type": "code",
   "execution_count": 131,
   "metadata": {},
   "outputs": [],
   "source": [
    "local_path = hdfs.copy_to_local(model_path_hdfs, \"\")"
   ]
  },
  {
   "cell_type": "code",
   "execution_count": 139,
   "metadata": {},
   "outputs": [],
   "source": [
    "def top3_acc(x, y):\n",
    "    return metrics.top_k_categorical_accuracy(x, y, k=3)\n",
    "    \n",
    "def top5_acc(x, y):\n",
    "    return metrics.top_k_categorical_accuracy(x, y, k=5)"
   ]
  },
  {
   "cell_type": "code",
   "execution_count": 140,
   "metadata": {},
   "outputs": [],
   "source": [
    "model = load_model(MODEL_NAME)\n",
    "model.compile(optimizer=tf.train.AdamOptimizer(LEARNING_RATE), loss='categorical_crossentropy',  \n",
    "                  metrics=['accuracy', metrics.mae,top3_acc,top5_acc])"
   ]
  },
  {
   "cell_type": "markdown",
   "metadata": {},
   "source": [
    "#### Evaluate on Validation Dataset"
   ]
  },
  {
   "cell_type": "code",
   "execution_count": 141,
   "metadata": {},
   "outputs": [],
   "source": [
    "# We have 10 000 Test examples, we can evaluate in batches of 100 to speed up the process\n",
    "BATCH_SIZE = 100\n",
    "NUM_EPOCHS = 1\n",
    "# get dataset path from the featurestore\n",
    "val_dataset_path = featurestore.get_training_dataset_path(VAL_DATASET)\n",
    "val_dataset = create_tf_dataset(VAL_DATASET, SHUFFLE_BUFFER_SIZE, BATCH_SIZE, 1)"
   ]
  },
  {
   "cell_type": "code",
   "execution_count": 142,
   "metadata": {},
   "outputs": [
    {
     "name": "stdout",
     "output_type": "stream",
     "text": [
      "\r",
      "1/1 [==============================] - 26s 26s/step"
     ]
    }
   ],
   "source": [
    "score = model.evaluate(val_dataset, verbose=1, steps=1)\n",
    "val_loss = score[0]\n",
    "val_top1_acc = score[1]\n",
    "val_mae = score[2]\n",
    "val_top3_acc = score[3]\n",
    "val_top5_acc = score[4]\n",
    "validation_results = {\n",
    "    \"loss\": val_loss,\n",
    "    \"top1_acc\": val_top1_acc,\n",
    "    \"mae\": val_mae,\n",
    "    \"val_top3_acc\": val_top3_acc,\n",
    "    \"val_top5_acc\": val_top5_acc\n",
    "}"
   ]
  },
  {
   "cell_type": "code",
   "execution_count": 143,
   "metadata": {},
   "outputs": [
    {
     "name": "stdout",
     "output_type": "stream",
     "text": [
      "{'loss': 7.0366740226745605, 'top1_acc': 0.15000000596046448, 'mae': 0.00865943543612957, 'val_top3_acc': 0.3100000023841858, 'val_top5_acc': 0.36000001430511475}"
     ]
    }
   ],
   "source": [
    "validation_results"
   ]
  },
  {
   "cell_type": "code",
   "execution_count": null,
   "metadata": {},
   "outputs": [],
   "source": []
  }
 ],
 "metadata": {
  "kernelspec": {
   "display_name": "PySpark",
   "language": "",
   "name": "pysparkkernel"
  },
  "language_info": {
   "codemirror_mode": {
    "name": "python",
    "version": 2
   },
   "mimetype": "text/x-python",
   "name": "pyspark",
   "pygments_lexer": "python2"
  }
 },
 "nbformat": 4,
 "nbformat_minor": 2
}